{
 "cells": [
  {
   "cell_type": "code",
   "execution_count": null,
   "id": "4fe850f1",
   "metadata": {},
   "outputs": [
    {
     "name": "stdout",
     "output_type": "stream",
     "text": [
      "Admin Graph: 2289 nodes, 4550 edges\n",
      "Geo Graph:   2128 nodes, 12339 edges\n",
      "10th percentile geo‐edge distance: 2.5 km\n",
      "25th percentile geo‐edge distance: 3.4 km\n",
      "50th percentile geo‐edge distance: 4.7 km\n",
      "75th percentile geo‐edge distance: 6.6 km\n",
      "90th percentile geo‐edge distance: 9.6 km\n",
      "Warning: When  cdn_resources is 'local' jupyter notebook has issues displaying graphics on chrome/safari. Use cdn_resources='in_line' or cdn_resources='remote' if you have issues viewing graphics in a notebook.\n",
      "admin_full_graph.html\n",
      "Pruned Geo Graph: 2128 nodes, 12307 edges (≤ 30.0 km)\n",
      "Warning: When  cdn_resources is 'local' jupyter notebook has issues displaying graphics on chrome/safari. Use cdn_resources='in_line' or cdn_resources='remote' if you have issues viewing graphics in a notebook.\n"
     ]
    }
   ],
   "source": [
    "import networkx as nx\n",
    "import numpy as np\n",
    "from pyvis.network import Network\n",
    "from pathlib import Path\n",
    "\n",
    "# ─── Load both graphs & distance maps ────────────────────────────────────────\n",
    "base = Path(\".\")\n",
    "\n",
    "# 1) Admin graph\n",
    "with open(base/\"admin_dag.pkl\",\"rb\") as f:\n",
    "    G_admin = pickle.load(f)\n",
    "with open(base/\"admin_wdistances.pkl\",\"rb\") as f:\n",
    "    dist_admin = pickle.load(f)\n",
    "\n",
    "# 2) Geo proximity graph\n",
    "with open(base/\"geo_graph.pkl\",\"rb\") as f:\n",
    "    G_geo = pickle.load(f)\n",
    "with open(base/\"geo_wdistances.pkl\",\"rb\") as f:\n",
    "    dist_geo = pickle.load(f)\n",
    "\n",
    "print(f\"Admin Graph: {G_admin.number_of_nodes()} nodes, {G_admin.number_of_edges()} edges\")\n",
    "print(f\"Geo Graph:   {G_geo.number_of_nodes()} nodes, {G_geo.number_of_edges()} edges\")\n",
    "\n",
    "# ─── Examine geo‐edge distance distribution ──────────────────────────────────\n",
    "geo_dists = [data[\"weight\"] for _,_,data in G_geo.edges(data=True)]\n",
    "for p in [10, 25, 50, 75, 90]:\n",
    "    print(f\"{p}th percentile geo‐edge distance: {np.percentile(geo_dists, p):.1f} km\")\n",
    "\n",
    "# ─── Helper to visualize a graph ─────────────────────────────────────────────\n",
    "def show_graph(G, out_html, notebook=True, directed=None):\n",
    "    # if directed not specified, infer from G\n",
    "    if directed is None:\n",
    "        directed = G.is_directed()\n",
    "    net = Network(notebook=notebook,\n",
    "                  height=\"700px\", width=\"100%\",\n",
    "                  directed=directed)\n",
    "    color_map = {\n",
    "        \"country\":      \"red\",\n",
    "        \"canton\":       \"orange\",\n",
    "        \"district\":     \"lightgreen\",\n",
    "        \"municipality\":\"lightblue\"\n",
    "    }\n",
    "    for n, attrs in G.nodes(data=True):\n",
    "        net.add_node(n,\n",
    "                     label=attrs.get(\"label\", n),\n",
    "                     title=attrs.get(\"level\", \"\"),\n",
    "                     color=color_map.get(attrs.get(\"level\",\"\"), \"gray\"))\n",
    "    for u, v, data in G.edges(data=True):\n",
    "        label = data.get(\"edge_type\", \"admin\")\n",
    "        net.add_edge(u, v, title=f\"{label}|{data['weight']:.1f}\")\n",
    "    net.show(out_html)\n",
    "\n",
    "# ─── Visualize full admin graph (directed) ─────────────────────────────────\n",
    "show_graph(G_admin,      \"admin_full_graph.html\", directed=True)\n",
    "\n",
    "# ─── Prune geo graph by a cutoff (e.g. 30 km) ────────────────────────────────\n",
    "MAX_GEO_KM = 30.0\n",
    "geo_pruned = nx.Graph()   # undirected\n",
    "geo_pruned.add_nodes_from(G_geo.nodes(data=True))\n",
    "for u, v, data in G_geo.edges(data=True):\n",
    "    if data[\"weight\"] <= MAX_GEO_KM:\n",
    "        geo_pruned.add_edge(u, v, **data)\n",
    "\n",
    "print(f\"Pruned Geo Graph: {geo_pruned.number_of_nodes()} nodes, \"\n",
    "      f\"{geo_pruned.number_of_edges()} edges (≤ {MAX_GEO_KM} km)\")\n",
    "\n",
    "# ─── Visualize pruned geo graph (undirected) ───────────────────────────────\n",
    "show_graph(geo_pruned,   \"geo_pruned_graph.html\", directed=False)\n"
   ]
  },
  {
   "cell_type": "code",
   "execution_count": null,
   "id": "2d8053fc",
   "metadata": {},
   "outputs": [],
   "source": []
  }
 ],
 "metadata": {
  "kernelspec": {
   "display_name": "civicembed",
   "language": "python",
   "name": "python3"
  },
  "language_info": {
   "codemirror_mode": {
    "name": "ipython",
    "version": 3
   },
   "file_extension": ".py",
   "mimetype": "text/x-python",
   "name": "python",
   "nbconvert_exporter": "python",
   "pygments_lexer": "ipython3",
   "version": "3.9.23"
  }
 },
 "nbformat": 4,
 "nbformat_minor": 5
}
